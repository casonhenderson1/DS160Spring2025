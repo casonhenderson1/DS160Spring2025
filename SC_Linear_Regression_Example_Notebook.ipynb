{
 "cells": [
  {
   "cell_type": "markdown",
   "id": "ef1318fb",
   "metadata": {},
   "source": [
    "# Linear Regression Notebook"
   ]
  },
  {
   "cell_type": "markdown",
   "id": "3c70dca0",
   "metadata": {},
   "source": [
    "\n",
    "## Introduction\n",
    "In this notebook, we will explore the concept of linear regression, a fundamental technique in machine learning and statistics for predictive analysis.\n",
    "Linear regression models the relationship between two variables by fitting a linear equation to observed data.\n"
   ]
  },
  {
   "cell_type": "markdown",
   "id": "6d90a375",
   "metadata": {},
   "source": [
    "\n",
    "## What is Linear Regression?\n",
    "Linear regression is used to predict a continuous target variable based on one or more input variables.\n",
    "It attempts to establish a linear relationship between the input variables (independent variables) and the output variable (dependent variable).\n",
    "\n",
    "### Formula for Linear Regression\n",
    "For simple linear regression with one independent variable, the model is defined as:\n",
    "\n",
    "$$ y = \\beta_0 + \\beta_1x + \\epsilon $$\n",
    "\n",
    "- \\( y \\) is the dependent variable (target).\n",
    "- \\( x \\) is the independent variable (feature).\n",
    "- \\( $\\beta_0 $\\) is the y-intercept of the line.\n",
    "- \\( $\\beta_1 $\\) is the slope of the line.\n",
    "- \\( $\\epsilon $\\) is the error term (residual).\n",
    "\n",
    "For multiple linear regression with more than one independent variable, the model is defined as:\n",
    "\n",
    "$$ y = \\beta_0 + \\beta_1x_1 + \\beta_2x_2 + ... + \\beta_nx_n + \\epsilon $$\n",
    "\n",
    "where \\( n \\) is the number of independent variables.\n"
   ]
  },
  {
   "cell_type": "markdown",
   "id": "9cdabb71",
   "metadata": {},
   "source": [
    "\n",
    "## Evaluation Metrics for Linear Regression\n",
    "To evaluate the performance of a linear regression model, we use several metrics:\n",
    "\n",
    "1. **Mean Squared Error (MSE):**\n",
    "   $$ MSE = \\frac{1}{n} \\sum_{i=1}^{n} (y_i - \\hat{y_i})^2 $$\n",
    "   Measures the average squared difference between actual and predicted values.\n",
    "\n",
    "2. **Root Mean Squared Error (RMSE):**\n",
    "   $$ RMSE = \\sqrt{MSE} $$\n",
    "   The square root of MSE, giving error in the same units as the target variable.\n",
    "\n",
    "3. **R-squared (R²):**\n",
    "   $$ R^2 = 1 - \\frac{\\sum (y - \\hat{y})^2}{\\sum (y - \\bar{y})^2} $$\n",
    "   Represents the proportion of variance in the target variable explained by the model. Ranges from 0 to 1, with higher values indicating better fit.\n"
   ]
  },
  {
   "cell_type": "code",
   "execution_count": 1,
   "id": "4d0b73b7",
   "metadata": {},
   "outputs": [],
   "source": [
    "\n",
    "# Import necessary libraries\n",
    "import pandas as pd\n",
    "import matplotlib.pyplot as plt\n",
    "import seaborn as sns\n",
    "from sklearn.model_selection import train_test_split\n",
    "from sklearn.linear_model import LinearRegression\n",
    "from sklearn.metrics import mean_squared_error, r2_score\n"
   ]
  },
  {
   "cell_type": "markdown",
   "id": "f04ca545",
   "metadata": {},
   "source": [
    "\n",
    "## Load Dataset\n",
    "Let's load a dataset for demonstration purposes. We'll use a sample dataset, but you can replace this with any dataset you'd like to explore.\n"
   ]
  },
  {
   "cell_type": "code",
   "execution_count": 3,
   "id": "245cff41",
   "metadata": {},
   "outputs": [
    {
     "data": {
      "text/html": [
       "<div>\n",
       "<style scoped>\n",
       "    .dataframe tbody tr th:only-of-type {\n",
       "        vertical-align: middle;\n",
       "    }\n",
       "\n",
       "    .dataframe tbody tr th {\n",
       "        vertical-align: top;\n",
       "    }\n",
       "\n",
       "    .dataframe thead th {\n",
       "        text-align: right;\n",
       "    }\n",
       "</style>\n",
       "<table border=\"1\" class=\"dataframe\">\n",
       "  <thead>\n",
       "    <tr style=\"text-align: right;\">\n",
       "      <th></th>\n",
       "      <th>total_bill</th>\n",
       "      <th>tip</th>\n",
       "      <th>sex</th>\n",
       "      <th>smoker</th>\n",
       "      <th>day</th>\n",
       "      <th>time</th>\n",
       "      <th>size</th>\n",
       "    </tr>\n",
       "  </thead>\n",
       "  <tbody>\n",
       "    <tr>\n",
       "      <th>0</th>\n",
       "      <td>16.99</td>\n",
       "      <td>1.01</td>\n",
       "      <td>Female</td>\n",
       "      <td>No</td>\n",
       "      <td>Sun</td>\n",
       "      <td>Dinner</td>\n",
       "      <td>2</td>\n",
       "    </tr>\n",
       "    <tr>\n",
       "      <th>1</th>\n",
       "      <td>10.34</td>\n",
       "      <td>1.66</td>\n",
       "      <td>Male</td>\n",
       "      <td>No</td>\n",
       "      <td>Sun</td>\n",
       "      <td>Dinner</td>\n",
       "      <td>3</td>\n",
       "    </tr>\n",
       "    <tr>\n",
       "      <th>2</th>\n",
       "      <td>21.01</td>\n",
       "      <td>3.50</td>\n",
       "      <td>Male</td>\n",
       "      <td>No</td>\n",
       "      <td>Sun</td>\n",
       "      <td>Dinner</td>\n",
       "      <td>3</td>\n",
       "    </tr>\n",
       "    <tr>\n",
       "      <th>3</th>\n",
       "      <td>23.68</td>\n",
       "      <td>3.31</td>\n",
       "      <td>Male</td>\n",
       "      <td>No</td>\n",
       "      <td>Sun</td>\n",
       "      <td>Dinner</td>\n",
       "      <td>2</td>\n",
       "    </tr>\n",
       "    <tr>\n",
       "      <th>4</th>\n",
       "      <td>24.59</td>\n",
       "      <td>3.61</td>\n",
       "      <td>Female</td>\n",
       "      <td>No</td>\n",
       "      <td>Sun</td>\n",
       "      <td>Dinner</td>\n",
       "      <td>4</td>\n",
       "    </tr>\n",
       "  </tbody>\n",
       "</table>\n",
       "</div>"
      ],
      "text/plain": [
       "   total_bill   tip     sex smoker  day    time  size\n",
       "0       16.99  1.01  Female     No  Sun  Dinner     2\n",
       "1       10.34  1.66    Male     No  Sun  Dinner     3\n",
       "2       21.01  3.50    Male     No  Sun  Dinner     3\n",
       "3       23.68  3.31    Male     No  Sun  Dinner     2\n",
       "4       24.59  3.61  Female     No  Sun  Dinner     4"
      ]
     },
     "execution_count": 3,
     "metadata": {},
     "output_type": "execute_result"
    }
   ],
   "source": [
    "\n",
    "# Example using seaborn's tips dataset for demonstration\n",
    "data=sns.load_dataset('tips')\n",
    "data.head()"
   ]
  },
  {
   "cell_type": "markdown",
   "id": "0b319bd1",
   "metadata": {},
   "source": [
    "\n",
    "## Simple Linear Regression\n",
    "We will perform simple linear regression using one feature (e.g., 'total_bill') to predict 'tip'.\n"
   ]
  },
  {
   "cell_type": "code",
   "execution_count": 14,
   "id": "843dad3a",
   "metadata": {},
   "outputs": [],
   "source": [
    "# Select features and target for simple linear regression\n",
    "X=data[['total_bill']]\n",
    "y=data['tip']"
   ]
  },
  {
   "cell_type": "markdown",
   "id": "87843ff7-3bdc-46f0-a5f0-43ef65ba2355",
   "metadata": {},
   "source": [
    "### Splitting Data into Training and Testing Sets\n",
    "In machine learning, splitting data into training and testing sets is a crucial step to ensure that the model's performance is evaluated effectively. Typically, this split is performed using the train_test_split function from the **sklearn.model_selection** module.\n",
    "\n",
    "#### Purpose:\n",
    "- Training Set: The training set is the portion of the dataset used to train the model. The model learns patterns and relationships in this data to make predictions.\n",
    "- Testing Set: The testing set is used to evaluate the model's performance after training. This data has not been seen by the model during training, making it ideal for checking how well the model generalizes to unseen data.\n",
    "#### Why Split the Data?\n",
    "- Avoid Overfitting: If the model is only evaluated on the data it was trained on, it may perform well on that data but fail to generalize to new data. This is known as overfitting.\n",
    "- Performance Evaluation: By reserving a portion of the data for testing, we can accurately assess the model's performance on new data. This helps us understand the model's predictive accuracy and its ability to generalize."
   ]
  },
  {
   "cell_type": "code",
   "execution_count": 17,
   "id": "b43947be-6354-4d36-8fd6-db81a0847bef",
   "metadata": {},
   "outputs": [],
   "source": [
    "# Split data into training and testing sets\n",
    "X_train, X_test, y_train, y_test=train_test_split(X, y, test_size=0.2, random_state=0)"
   ]
  },
  {
   "cell_type": "markdown",
   "id": "71f6e631-9b81-4035-8d60-be73e6a62edf",
   "metadata": {},
   "source": [
    "#### Parameters:\n",
    "- test_size: Represents the proportion of the dataset to include in the test split. For example, test_size=0.2 means 20% of the data will be used for testing, and 80% for training.\n",
    "- random_state: Ensures that the split is reproducible. Setting a random_state means that every time you run the code, you will get the same split of data."
   ]
  },
  {
   "cell_type": "code",
   "execution_count": 22,
   "id": "184209e6-4338-4891-a112-da51d1d2a3cb",
   "metadata": {},
   "outputs": [],
   "source": [
    "# Initialize and train the model\n",
    "model=LinearRegression()\n",
    "model.fit(X_train, y_train)\n",
    "\n",
    "# Make predictions\n",
    "y_pred=model.predict(X_test)"
   ]
  },
  {
   "cell_type": "code",
   "execution_count": 24,
   "id": "caa2fb2a-24bc-4b3d-af5f-7a616ed8754c",
   "metadata": {},
   "outputs": [
    {
     "data": {
      "text/plain": [
       "array([2.7321953 , 2.79999268, 2.91621676, 1.73073111, 2.60434881,\n",
       "       1.58545101, 2.76415692, 3.28813383, 2.7864332 , 4.38451435,\n",
       "       3.47699796, 3.47021823, 2.39127132, 2.28763818, 2.32831661,\n",
       "       3.97288739, 1.83726986, 2.38449158, 2.84745085, 3.26585755,\n",
       "       3.93995723, 3.05471713, 2.57819839, 2.48521912, 2.33703342,\n",
       "       2.61693975, 2.20628132, 3.91477534, 3.4779665 , 2.55592211,\n",
       "       2.45519457, 2.23727441, 2.52202341, 2.05422148, 2.79999268,\n",
       "       2.32541101, 2.66827205, 2.02903959, 5.7094689 , 2.57626132,\n",
       "       1.85954614, 2.23243174, 2.54817383, 3.91961801, 2.26439336,\n",
       "       2.67214619, 2.79515001, 3.11864037, 2.68183153])"
      ]
     },
     "execution_count": 24,
     "metadata": {},
     "output_type": "execute_result"
    }
   ],
   "source": [
    "y_pred"
   ]
  },
  {
   "cell_type": "code",
   "execution_count": 26,
   "id": "6fb4a805-a6d4-4162-b93e-c5e13c28f5a7",
   "metadata": {},
   "outputs": [
    {
     "data": {
      "text/plain": [
       "64     2.64\n",
       "63     3.76\n",
       "55     3.51\n",
       "111    1.00\n",
       "225    2.50\n",
       "92     1.00\n",
       "76     3.08\n",
       "181    5.65\n",
       "188    3.50\n",
       "180    3.68\n",
       "73     5.00\n",
       "107    4.29\n",
       "150    2.50\n",
       "198    2.00\n",
       "224    1.58\n",
       "44     5.60\n",
       "145    1.50\n",
       "110    3.00\n",
       "243    3.00\n",
       "189    4.00\n",
       "210    2.00\n",
       "104    4.08\n",
       "138    2.00\n",
       "8      1.96\n",
       "199    2.00\n",
       "203    2.50\n",
       "220    2.20\n",
       "125    4.20\n",
       "5      4.71\n",
       "22     2.23\n",
       "74     2.20\n",
       "124    2.52\n",
       "12     1.57\n",
       "168    1.61\n",
       "45     3.00\n",
       "158    2.61\n",
       "37     3.07\n",
       "136    2.00\n",
       "212    9.00\n",
       "223    3.00\n",
       "222    1.92\n",
       "118    1.80\n",
       "231    3.00\n",
       "155    5.14\n",
       "209    2.23\n",
       "18     3.50\n",
       "108    3.76\n",
       "15     3.92\n",
       "71     3.00\n",
       "Name: tip, dtype: float64"
      ]
     },
     "execution_count": 26,
     "metadata": {},
     "output_type": "execute_result"
    }
   ],
   "source": [
    "y_test"
   ]
  },
  {
   "cell_type": "code",
   "execution_count": 28,
   "id": "13a84798-dd95-40ba-9d59-867368839b9d",
   "metadata": {},
   "outputs": [
    {
     "name": "stdout",
     "output_type": "stream",
     "text": [
      "Mean squared error 0.821309064276629\n",
      "Root mean squared error 0.9062610353957787\n",
      "R square 0.5906895098589039\n"
     ]
    }
   ],
   "source": [
    "import numpy as np\n",
    "# Evaluate the model\n",
    "mse=mean_squared_error(y_test, y_pred)\n",
    "rmse=np.sqrt(mse)\n",
    "r2=r2_score(y_test, y_pred)\n",
    "# Output evaluation metrics\n",
    "\n",
    "print(\"Mean squared error\", mse)\n",
    "print(\"Root mean squared error\", rmse)\n",
    "print(\"R square\", r2)"
   ]
  },
  {
   "cell_type": "markdown",
   "id": "7087f66f",
   "metadata": {},
   "source": [
    "\n",
    "## Visualizing Simple Linear Regression\n",
    "Below is a simple representation of linear regression, where a best-fit line is drawn through the data points:\n",
    "\n",
    "![Simple Linear Regression](https://upload.wikimedia.org/wikipedia/commons/3/3a/Linear_regression.svg)\n",
    "\n",
    "We will also visualize the simple linear regression model we created earlier by plotting the actual versus predicted values.\n"
   ]
  },
  {
   "cell_type": "code",
   "execution_count": 38,
   "id": "147f29cb",
   "metadata": {},
   "outputs": [
    {
     "data": {
      "image/png": "[encoded data removed]",
      "text/plain": [
       "<Figure size 640x480 with 1 Axes>"
      ]
     },
     "metadata": {},
     "output_type": "display_data"
    }
   ],
   "source": [
    "# Plot actual vs predicted values\n",
    "plt.scatter(X_test, y_test, color='blue', label=\"Actual Values\")\n",
    "plt.plot(X_test, y_pred, color='red', label=\"Predicted line\")\n",
    "plt.xlabel(\"Total Bill\")\n",
    "plt.ylabel(\"Tip\")\n",
    "plt.title(\"Simple Linear Regression: Total bill vs Tip\")\n",
    "plt.legend()\n",
    "plt.show()"
   ]
  },
  {
   "cell_type": "code",
   "execution_count": 42,
   "id": "6868d72c-ba6f-4f34-8ffb-9448084c743d",
   "metadata": {},
   "outputs": [
    {
     "name": "stdout",
     "output_type": "stream",
     "text": [
      "The predicted tip: $5.58\n"
     ]
    },
    {
     "name": "stderr",
     "output_type": "stream",
     "text": [
      "C:\\Users\\cason\\anaconda3\\Lib\\site-packages\\sklearn\\base.py:493: UserWarning: X does not have valid feature names, but LinearRegression was fitted with feature names\n",
      "  warnings.warn(\n"
     ]
    }
   ],
   "source": [
    "# Example unknown input\n",
    "# Bill amount of $47\n",
    "new_bill=[[47]]\n",
    "\n",
    "# Make a prediction using the model\n",
    "predicted_tip=model.predict(new_bill)\n",
    "\n",
    "# Output the prediction\n",
    "print(f\"The predicted tip: ${predicted_tip[0]:.2f}\")\n"
   ]
  },
  {
   "cell_type": "markdown",
   "id": "970551d8-3778-4ae9-8f16-e34a21ff7f47",
   "metadata": {},
   "source": [
    "### Multiple Linear Regression"
   ]
  },
  {
   "cell_type": "code",
   "execution_count": 44,
   "id": "a731a45c-94b9-40bf-b8a7-2591e79f9338",
   "metadata": {},
   "outputs": [
    {
     "data": {
      "text/html": [
       "<div>\n",
       "<style scoped>\n",
       "    .dataframe tbody tr th:only-of-type {\n",
       "        vertical-align: middle;\n",
       "    }\n",
       "\n",
       "    .dataframe tbody tr th {\n",
       "        vertical-align: top;\n",
       "    }\n",
       "\n",
       "    .dataframe thead th {\n",
       "        text-align: right;\n",
       "    }\n",
       "</style>\n",
       "<table border=\"1\" class=\"dataframe\">\n",
       "  <thead>\n",
       "    <tr style=\"text-align: right;\">\n",
       "      <th></th>\n",
       "      <th>total_bill</th>\n",
       "      <th>tip</th>\n",
       "      <th>sex</th>\n",
       "      <th>smoker</th>\n",
       "      <th>day</th>\n",
       "      <th>time</th>\n",
       "      <th>size</th>\n",
       "    </tr>\n",
       "  </thead>\n",
       "  <tbody>\n",
       "    <tr>\n",
       "      <th>0</th>\n",
       "      <td>16.99</td>\n",
       "      <td>1.01</td>\n",
       "      <td>Female</td>\n",
       "      <td>No</td>\n",
       "      <td>Sun</td>\n",
       "      <td>Dinner</td>\n",
       "      <td>2</td>\n",
       "    </tr>\n",
       "    <tr>\n",
       "      <th>1</th>\n",
       "      <td>10.34</td>\n",
       "      <td>1.66</td>\n",
       "      <td>Male</td>\n",
       "      <td>No</td>\n",
       "      <td>Sun</td>\n",
       "      <td>Dinner</td>\n",
       "      <td>3</td>\n",
       "    </tr>\n",
       "    <tr>\n",
       "      <th>2</th>\n",
       "      <td>21.01</td>\n",
       "      <td>3.50</td>\n",
       "      <td>Male</td>\n",
       "      <td>No</td>\n",
       "      <td>Sun</td>\n",
       "      <td>Dinner</td>\n",
       "      <td>3</td>\n",
       "    </tr>\n",
       "    <tr>\n",
       "      <th>3</th>\n",
       "      <td>23.68</td>\n",
       "      <td>3.31</td>\n",
       "      <td>Male</td>\n",
       "      <td>No</td>\n",
       "      <td>Sun</td>\n",
       "      <td>Dinner</td>\n",
       "      <td>2</td>\n",
       "    </tr>\n",
       "    <tr>\n",
       "      <th>4</th>\n",
       "      <td>24.59</td>\n",
       "      <td>3.61</td>\n",
       "      <td>Female</td>\n",
       "      <td>No</td>\n",
       "      <td>Sun</td>\n",
       "      <td>Dinner</td>\n",
       "      <td>4</td>\n",
       "    </tr>\n",
       "  </tbody>\n",
       "</table>\n",
       "</div>"
      ],
      "text/plain": [
       "   total_bill   tip     sex smoker  day    time  size\n",
       "0       16.99  1.01  Female     No  Sun  Dinner     2\n",
       "1       10.34  1.66    Male     No  Sun  Dinner     3\n",
       "2       21.01  3.50    Male     No  Sun  Dinner     3\n",
       "3       23.68  3.31    Male     No  Sun  Dinner     2\n",
       "4       24.59  3.61  Female     No  Sun  Dinner     4"
      ]
     },
     "execution_count": 44,
     "metadata": {},
     "output_type": "execute_result"
    }
   ],
   "source": [
    "df=sns.load_dataset('tips')\n",
    "df.head()"
   ]
  },
  {
   "cell_type": "code",
   "execution_count": 46,
   "id": "1bff3261-1b2b-4dd2-b503-8e6f94b57c1d",
   "metadata": {},
   "outputs": [
    {
     "data": {
      "text/plain": [
       "Index(['total_bill', 'tip', 'sex', 'smoker', 'day', 'time', 'size'], dtype='object')"
      ]
     },
     "execution_count": 46,
     "metadata": {},
     "output_type": "execute_result"
    }
   ],
   "source": [
    "df.columns"
   ]
  },
  {
   "cell_type": "code",
   "execution_count": 52,
   "id": "4cccc588-bbaf-44e4-8baa-39d7ab25318a",
   "metadata": {},
   "outputs": [
    {
     "name": "stdout",
     "output_type": "stream",
     "text": [
      "<class 'pandas.core.frame.DataFrame'>\n",
      "RangeIndex: 244 entries, 0 to 243\n",
      "Data columns (total 7 columns):\n",
      " #   Column      Non-Null Count  Dtype   \n",
      "---  ------      --------------  -----   \n",
      " 0   total_bill  244 non-null    float64 \n",
      " 1   tip         244 non-null    float64 \n",
      " 2   sex         244 non-null    category\n",
      " 3   smoker      244 non-null    category\n",
      " 4   day         244 non-null    category\n",
      " 5   time        244 non-null    category\n",
      " 6   size        244 non-null    int64   \n",
      "dtypes: category(4), float64(2), int64(1)\n",
      "memory usage: 7.4 KB\n"
     ]
    }
   ],
   "source": [
    "df.info()"
   ]
  },
  {
   "cell_type": "code",
   "execution_count": 50,
   "id": "598da73e-0384-408c-90ac-ac5c934da9b1",
   "metadata": {},
   "outputs": [
    {
     "data": {
      "text/plain": [
       "total_bill    0\n",
       "sex           0\n",
       "smoker        0\n",
       "day           0\n",
       "time          0\n",
       "size          0\n",
       "dtype: int64"
      ]
     },
     "execution_count": 50,
     "metadata": {},
     "output_type": "execute_result"
    }
   ],
   "source": [
    "# Features (X) and Target Variable (y)\n",
    "X=df[['total_bill', 'sex', 'smoker', 'day', 'time', 'size']]\n",
    "y=df['tip']\n",
    "\n",
    "# Checking missing values\n",
    "\n",
    "X.isnull().sum()"
   ]
  },
  {
   "cell_type": "markdown",
   "id": "384cee10-7cd1-449f-baad-bdcbaac4a821",
   "metadata": {},
   "source": [
    "### pd.get_dummies()\n",
    "pd.get_dummies() is a function in the pandas library that converts categorical variables into a format that can be provided to machine learning algorithms to improve predictions. Specifically, it transforms categorical columns into multiple binary (0 or 1) columns, a process called one-hot encoding.\n",
    "\n",
    "#### How It Works:\n",
    "- Identifies all unique categories in the categorical variables.\n",
    "- Creates a new column for each unique category. For instance, if a column named day has the categories ['Mon', 'Tue', 'Wed'], pd.get_dummies() will create three new columns: day_Mon, day_Tue, and day_Wed.\n",
    "Assigns binary values (0 or 1) or (True/ False) to these new columns. For each row, it assigns 1 if the category applies and 0 if it does not.\n",
    "#### Usage of drop_first=True:\n",
    "To avoid multicollinearity (when two or more variables are highly correlated), you can set drop_first=True. This will drop the first category in each categorical variable and only include the remaining categories as dummy variables. By doing this, we reduce redundancy and prevent issues in regression models.\n",
    "\n",
    "Example:\n",
    "For a column day with categories [Mon, Tue, Wed]:\n",
    "\n",
    "- pd.get_dummies(day) will create three columns: day_Mon, day_Tue, day_Wed.\n",
    "- pd.get_dummies(day, drop_first=True) will create two columns: day_Tue, day_Wed. (If both are 0, it indicates day_Mon.)"
   ]
  },
  {
   "cell_type": "code",
   "execution_count": 54,
   "id": "42dd21ca-d960-46ec-9861-9c68d70a4f41",
   "metadata": {},
   "outputs": [
    {
     "data": {
      "text/plain": [
       "['Sun', 'Sat', 'Thur', 'Fri']\n",
       "Categories (4, object): ['Thur', 'Fri', 'Sat', 'Sun']"
      ]
     },
     "execution_count": 54,
     "metadata": {},
     "output_type": "execute_result"
    }
   ],
   "source": [
    "# unique\n",
    "X['day'].unique()"
   ]
  },
  {
   "cell_type": "code",
   "execution_count": 56,
   "id": "bbd3352c-0f1d-4ac4-b226-abcc98b0d2f8",
   "metadata": {},
   "outputs": [
    {
     "data": {
      "text/plain": [
       "['Female', 'Male']\n",
       "Categories (2, object): ['Male', 'Female']"
      ]
     },
     "execution_count": 56,
     "metadata": {},
     "output_type": "execute_result"
    }
   ],
   "source": [
    "X['sex'].unique()"
   ]
  },
  {
   "cell_type": "code",
   "execution_count": 58,
   "id": "14aa3e30-e075-48ee-8954-8d300eb8bec5",
   "metadata": {},
   "outputs": [
    {
     "data": {
      "text/plain": [
       "['Dinner', 'Lunch']\n",
       "Categories (2, object): ['Lunch', 'Dinner']"
      ]
     },
     "execution_count": 58,
     "metadata": {},
     "output_type": "execute_result"
    }
   ],
   "source": [
    "X['time'].unique()"
   ]
  },
  {
   "cell_type": "code",
   "execution_count": 60,
   "id": "df0a581b-5053-4dcb-9823-0ea6547e3553",
   "metadata": {},
   "outputs": [
    {
     "data": {
      "text/plain": [
       "['No', 'Yes']\n",
       "Categories (2, object): ['Yes', 'No']"
      ]
     },
     "execution_count": 60,
     "metadata": {},
     "output_type": "execute_result"
    }
   ],
   "source": [
    "X['smoker'].unique()"
   ]
  },
  {
   "cell_type": "code",
   "execution_count": 66,
   "id": "dc1eff4a-ff70-4827-b892-559632a678cd",
   "metadata": {},
   "outputs": [
    {
     "data": {
      "text/html": [
       "<div>\n",
       "<style scoped>\n",
       "    .dataframe tbody tr th:only-of-type {\n",
       "        vertical-align: middle;\n",
       "    }\n",
       "\n",
       "    .dataframe tbody tr th {\n",
       "        vertical-align: top;\n",
       "    }\n",
       "\n",
       "    .dataframe thead th {\n",
       "        text-align: right;\n",
       "    }\n",
       "</style>\n",
       "<table border=\"1\" class=\"dataframe\">\n",
       "  <thead>\n",
       "    <tr style=\"text-align: right;\">\n",
       "      <th></th>\n",
       "      <th>total_bill</th>\n",
       "      <th>size</th>\n",
       "      <th>sex_Female</th>\n",
       "      <th>smoker_No</th>\n",
       "      <th>day_Fri</th>\n",
       "      <th>day_Sat</th>\n",
       "      <th>day_Sun</th>\n",
       "      <th>time_Dinner</th>\n",
       "    </tr>\n",
       "  </thead>\n",
       "  <tbody>\n",
       "    <tr>\n",
       "      <th>0</th>\n",
       "      <td>16.99</td>\n",
       "      <td>2</td>\n",
       "      <td>True</td>\n",
       "      <td>True</td>\n",
       "      <td>False</td>\n",
       "      <td>False</td>\n",
       "      <td>True</td>\n",
       "      <td>True</td>\n",
       "    </tr>\n",
       "    <tr>\n",
       "      <th>1</th>\n",
       "      <td>10.34</td>\n",
       "      <td>3</td>\n",
       "      <td>False</td>\n",
       "      <td>True</td>\n",
       "      <td>False</td>\n",
       "      <td>False</td>\n",
       "      <td>True</td>\n",
       "      <td>True</td>\n",
       "    </tr>\n",
       "    <tr>\n",
       "      <th>2</th>\n",
       "      <td>21.01</td>\n",
       "      <td>3</td>\n",
       "      <td>False</td>\n",
       "      <td>True</td>\n",
       "      <td>False</td>\n",
       "      <td>False</td>\n",
       "      <td>True</td>\n",
       "      <td>True</td>\n",
       "    </tr>\n",
       "    <tr>\n",
       "      <th>3</th>\n",
       "      <td>23.68</td>\n",
       "      <td>2</td>\n",
       "      <td>False</td>\n",
       "      <td>True</td>\n",
       "      <td>False</td>\n",
       "      <td>False</td>\n",
       "      <td>True</td>\n",
       "      <td>True</td>\n",
       "    </tr>\n",
       "    <tr>\n",
       "      <th>4</th>\n",
       "      <td>24.59</td>\n",
       "      <td>4</td>\n",
       "      <td>True</td>\n",
       "      <td>True</td>\n",
       "      <td>False</td>\n",
       "      <td>False</td>\n",
       "      <td>True</td>\n",
       "      <td>True</td>\n",
       "    </tr>\n",
       "  </tbody>\n",
       "</table>\n",
       "</div>"
      ],
      "text/plain": [
       "   total_bill  size  sex_Female  smoker_No  day_Fri  day_Sat  day_Sun  \\\n",
       "0       16.99     2        True       True    False    False     True   \n",
       "1       10.34     3       False       True    False    False     True   \n",
       "2       21.01     3       False       True    False    False     True   \n",
       "3       23.68     2       False       True    False    False     True   \n",
       "4       24.59     4        True       True    False    False     True   \n",
       "\n",
       "   time_Dinner  \n",
       "0         True  \n",
       "1         True  \n",
       "2         True  \n",
       "3         True  \n",
       "4         True  "
      ]
     },
     "execution_count": 66,
     "metadata": {},
     "output_type": "execute_result"
    }
   ],
   "source": [
    "\n",
    "# Use pd.get_dummies to one-hot encode all categorical variables\n",
    "X_encoded=pd.get_dummies(X, columns=['sex', 'smoker', 'day', 'time'], drop_first=True)\n",
    "\n",
    "# Display the first few rows of the encoded features to understand the structure\n",
    "X_encoded.head()"
   ]
  },
  {
   "cell_type": "markdown",
   "id": "585263c3-9dc7-4d5f-93d7-ccac7d7bd148",
   "metadata": {},
   "source": [
    "- Female: True/1, Male: False/0\n",
    "- smoker_no: True/1, smoker_yes: False/0\n",
    "- day_Fri: 100, day_Sat: 010, day_Sun: 001, day_thu: 000\n",
    "- time_dinner: 1. time_lunch: 0"
   ]
  },
  {
   "cell_type": "code",
   "execution_count": 89,
   "id": "548fb951-eb40-437c-b160-6c661a1bab47",
   "metadata": {},
   "outputs": [],
   "source": [
    "# Split data into training and testing sets\n",
    "X_train, X_test, y_train, y_test=train_test_split(X_encoded, y, test_size=.20, random_state=1)\n",
    "\n",
    "# Initialize and train the model\n",
    "\n",
    "mlr_model=LinearRegression()\n",
    "mlr_model.fit(X_train.values, y_train.values)\n",
    "# Make predictions on the test set\n",
    "\n",
    "y_pred_mlr=mlr_model.predict(X_test.values)\n"
   ]
  },
  {
   "cell_type": "code",
   "execution_count": 91,
   "id": "1f1b9b90-61a6-43d9-a21e-f6d4fb0f68a0",
   "metadata": {},
   "outputs": [
    {
     "name": "stdout",
     "output_type": "stream",
     "text": [
      "Multiple Linear Regression Evaluation Metrics:\n",
      "Mean squared error, 1.35\n",
      "Root mean squared error, 1.16\n",
      "R square, 0.49\n"
     ]
    }
   ],
   "source": [
    "import numpy as np\n",
    "# Evaluate the model\n",
    "mse=mean_squared_error(y_test, y_pred_mlr)\n",
    "rmse=np.sqrt(mse)\n",
    "r2=r2_score(y_test, y_pred_mlr)\n",
    "# Output evaluation metrics\n",
    "print(\"Multiple Linear Regression Evaluation Metrics:\")\n",
    "print(f\"Mean squared error, {mse:.2f}\")\n",
    "print(f\"Root mean squared error, {rmse:.2f}\")\n",
    "print(f\"R square, {r2:.2f}\")\n",
    "\n",
    "# Output evaluation metrics\n",
    "\n",
    "\n"
   ]
  },
  {
   "cell_type": "markdown",
   "id": "f769e6c4-c16f-46d5-87ad-ddf4c2b6d92b",
   "metadata": {},
   "source": [
    "#### Example input: total_bill=60, size=2, sex_male=1, smoker_yes=0, day_Fri=1, day_Sat=0, day_Sun=0, time_Dinner=1 "
   ]
  },
  {
   "cell_type": "code",
   "execution_count": 93,
   "id": "31a8ebc0-4a29-4227-954c-5f8b96b3b8a7",
   "metadata": {},
   "outputs": [
    {
     "data": {
      "text/html": [
       "<div>\n",
       "<style scoped>\n",
       "    .dataframe tbody tr th:only-of-type {\n",
       "        vertical-align: middle;\n",
       "    }\n",
       "\n",
       "    .dataframe tbody tr th {\n",
       "        vertical-align: top;\n",
       "    }\n",
       "\n",
       "    .dataframe thead th {\n",
       "        text-align: right;\n",
       "    }\n",
       "</style>\n",
       "<table border=\"1\" class=\"dataframe\">\n",
       "  <thead>\n",
       "    <tr style=\"text-align: right;\">\n",
       "      <th></th>\n",
       "      <th>total_bill</th>\n",
       "      <th>size</th>\n",
       "      <th>sex_Female</th>\n",
       "      <th>smoker_No</th>\n",
       "      <th>day_Fri</th>\n",
       "      <th>day_Sat</th>\n",
       "      <th>day_Sun</th>\n",
       "      <th>time_Dinner</th>\n",
       "    </tr>\n",
       "  </thead>\n",
       "  <tbody>\n",
       "    <tr>\n",
       "      <th>151</th>\n",
       "      <td>13.13</td>\n",
       "      <td>2</td>\n",
       "      <td>False</td>\n",
       "      <td>True</td>\n",
       "      <td>False</td>\n",
       "      <td>False</td>\n",
       "      <td>True</td>\n",
       "      <td>True</td>\n",
       "    </tr>\n",
       "  </tbody>\n",
       "</table>\n",
       "</div>"
      ],
      "text/plain": [
       "     total_bill  size  sex_Female  smoker_No  day_Fri  day_Sat  day_Sun  \\\n",
       "151       13.13     2       False       True    False    False     True   \n",
       "\n",
       "     time_Dinner  \n",
       "151         True  "
      ]
     },
     "execution_count": 93,
     "metadata": {},
     "output_type": "execute_result"
    }
   ],
   "source": [
    "X_encoded.sample()"
   ]
  },
  {
   "cell_type": "code",
   "execution_count": 99,
   "id": "8d6a7c4c-3c03-410e-9553-4a0d344e9eb6",
   "metadata": {},
   "outputs": [
    {
     "data": {
      "text/plain": [
       "array([6.11859349])"
      ]
     },
     "execution_count": 99,
     "metadata": {},
     "output_type": "execute_result"
    }
   ],
   "source": [
    "mlr_model.predict([[60, 2, 0, 1, 1,0,0, 1]])"
   ]
  },
  {
   "cell_type": "markdown",
   "id": "40f7b072-8c22-48f3-b4be-0c5f9cddd78b",
   "metadata": {},
   "source": [
    "### Total bill $80, party size 5, smoker, visited on thursday during lunch, group of females"
   ]
  },
  {
   "cell_type": "code",
   "execution_count": 102,
   "id": "64cd8d7a-f0b2-41fd-85e2-df9f74f8c5bc",
   "metadata": {},
   "outputs": [
    {
     "data": {
      "text/plain": [
       "array([8.39698201])"
      ]
     },
     "execution_count": 102,
     "metadata": {},
     "output_type": "execute_result"
    }
   ],
   "source": [
    "mlr_model.predict([[80, 5, 1, 0, 0,0,0, 0]])"
   ]
  },
  {
   "cell_type": "code",
   "execution_count": 104,
   "id": "eb91085d-8949-4d6b-bf79-130743372a14",
   "metadata": {},
   "outputs": [
    {
     "data": {
      "text/plain": [
       "array([8.78386662])"
      ]
     },
     "execution_count": 104,
     "metadata": {},
     "output_type": "execute_result"
    }
   ],
   "source": [
    "mlr_model.predict([[80, 5, 1, 0, 0,0,1, 0]])"
   ]
  }
 ],
 "metadata": {
  "kernelspec": {
   "display_name": "Python 3 (ipykernel)",
   "language": "python",
   "name": "python3"
  },
  "language_info": {
   "codemirror_mode": {
    "name": "ipython",
    "version": 3
   },
   "file_extension": ".py",
   "mimetype": "text/x-python",
   "name": "python",
   "nbconvert_exporter": "python",
   "pygments_lexer": "ipython3",
   "version": "3.12.4"
  }
 },
 "nbformat": 4,
 "nbformat_minor": 5
}
